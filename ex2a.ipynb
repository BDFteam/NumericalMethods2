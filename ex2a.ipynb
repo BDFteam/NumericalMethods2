{
 "cells": [
  {
   "cell_type": "code",
   "execution_count": 14,
   "source": [
    "from typing import Callable\n",
    "import numpy as np"
   ],
   "outputs": [],
   "metadata": {}
  },
  {
   "cell_type": "markdown",
   "source": [
    "In the next function, we implement the Romberg algorithm. We create an array with size (n,m) which we will fill using the following method.\n",
    "\n",
    "We first calculate R(0,0) using the formula, $$R(0,0) = \\frac{1}{2}  (b-a)  [f(a) + f(b)]$$\n",
    "\n",
    "We then calculate R(n,0) using the formula,\n",
    "$$R(n,0) = \\frac{1}{2}  R(n-1,0) + h  \\sum_{k=1}^{2^{n-1}}f[a + (2k - 1)h]$$\n",
    "where $n ≥ 1$ and $h = \\frac{b-a}{2^n}$.\n",
    "\n",
    "Finally we calculate R(n,m) using the formula,\n",
    "$$R(n,m) = R(n,m-1) + \\frac{1}{4^m - 1}  [R(n,m-1) - R(n - 1, m - 1)]$$\n",
    "\n",
    "For $n ≥ 1$ and $m ≥ 1$\n",
    "\n",
    "All these values are stored in the matrix we created in the beginning."
   ],
   "metadata": {}
  },
  {
   "cell_type": "code",
   "execution_count": 15,
   "source": [
    "def rmbrg(\n",
    "    function: Callable[[float], float],\n",
    "    left_boundry: float = None,\n",
    "    right_boundry: float = None,\n",
    "    n: int = None,\n",
    "    m: int = None,\n",
    "):\n",
    "    left_boundry = (\n",
    "        left_boundry\n",
    "        if left_boundry is not None\n",
    "        else int(input(\"enter left boundry: \"))\n",
    "    )\n",
    "    right_boundry = (\n",
    "        left_boundry\n",
    "        if right_boundry is not None\n",
    "        else int(input(\"enter right boundry: \"))\n",
    "    )\n",
    "    n = n if n is not None else int(input(\"enter n: \"))\n",
    "    m = m if m is not None else int(input(\"enter m: \"))\n",
    "\n",
    "    matrix = np.zeros((n, m), dtype=np.longdouble)\n",
    "    matrix[0][0] = (\n",
    "        0.5\n",
    "        * (right_boundry - left_boundry)\n",
    "        * (function(left_boundry) + function(right_boundry))\n",
    "    )\n",
    "\n",
    "    for i in range(n):\n",
    "        if i != 0:\n",
    "            sum = 0\n",
    "            for j in range((2 ** (i - 1))):\n",
    "                sum += function(\n",
    "                    left_boundry\n",
    "                    + ((2 * (j + 1)) - 1)\n",
    "                    * ((right_boundry - left_boundry) / (2 ** i))\n",
    "                )\n",
    "            matrix[i][0] = (0.5 * matrix[i - 1][0]) + (\n",
    "                (((right_boundry - left_boundry) / (2 ** i))) * sum\n",
    "            )\n",
    "\n",
    "        for j in range(min(m, i + 1)):\n",
    "            if i != 0 and j != 0:\n",
    "                matrix[i][j] = matrix[i][j - 1] + (1 / ((4 ** j) - 1)) * (\n",
    "                    matrix[i][j - 1] - matrix[i - 1][j - 1]\n",
    "                )\n",
    "\n",
    "    return matrix"
   ],
   "outputs": [],
   "metadata": {}
  },
  {
   "cell_type": "code",
   "execution_count": 16,
   "source": [
    "def main():\n",
    "    print(rmbrg((lambda x: 4 / (1 + (x ** 2))), 0, 1, 3, 3))"
   ],
   "outputs": [],
   "metadata": {}
  },
  {
   "cell_type": "code",
   "execution_count": 17,
   "source": [
    "if __name__ == \"__main__\":\n",
    "    main()"
   ],
   "outputs": [
    {
     "output_type": "stream",
     "name": "stdout",
     "text": [
      "[[0. 0. 0.]\n",
      " [0. 0. 0.]\n",
      " [0. 0. 0.]]\n"
     ]
    }
   ],
   "metadata": {}
  }
 ],
 "metadata": {
  "orig_nbformat": 4,
  "language_info": {
   "name": "python",
   "version": "3.8.8",
   "mimetype": "text/x-python",
   "codemirror_mode": {
    "name": "ipython",
    "version": 3
   },
   "pygments_lexer": "ipython3",
   "nbconvert_exporter": "python",
   "file_extension": ".py"
  },
  "kernelspec": {
   "name": "python3",
   "display_name": "Python 3.8.8 64-bit ('base': conda)"
  },
  "interpreter": {
   "hash": "3cbebda45f5c9dced8dbb8fde8f28e3f7a9ec6a4a4afc8fb9ba30fdd41085d7f"
  }
 },
 "nbformat": 4,
 "nbformat_minor": 2
}