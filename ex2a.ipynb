{
 "cells": [
  {
   "cell_type": "code",
   "execution_count": 19,
   "source": [
    "from typing import Callable\n",
    "import numpy as np"
   ],
   "outputs": [],
   "metadata": {}
  },
  {
   "cell_type": "code",
   "execution_count": 20,
   "source": [
    "def rmbrg(\n",
    "    function: Callable[[float], float],\n",
    "    left_boundry: float = None,\n",
    "    right_boundry: float = None,\n",
    "    n: int = None,\n",
    "    m: int = None,\n",
    "):\n",
    "    left_boundry = (\n",
    "        left_boundry\n",
    "        if left_boundry is not None\n",
    "        else int(input(\"enter left boundry: \"))\n",
    "    )\n",
    "    right_boundry = (\n",
    "        left_boundry\n",
    "        if right_boundry is not None\n",
    "        else int(input(\"enter right boundry: \"))\n",
    "    )\n",
    "    n = n if n is not None else int(input(\"enter n: \"))\n",
    "    m = m if m is not None else int(input(\"enter m: \"))\n",
    "\n",
    "    matrix = np.zeros((n, m), dtype=np.longdouble)\n",
    "    matrix[0][0] = (\n",
    "        0.5\n",
    "        * (right_boundry - left_boundry)\n",
    "        * (function(left_boundry) + function(right_boundry))\n",
    "    )\n",
    "\n",
    "    for i in range(n):\n",
    "        if i != 0:\n",
    "            sum = 0\n",
    "            for j in range((2 ** (i - 1))):\n",
    "                sum += function(\n",
    "                    left_boundry\n",
    "                    + ((2 * (j + 1)) - 1)\n",
    "                    * ((right_boundry - left_boundry) / (2 ** i))\n",
    "                )\n",
    "            matrix[i][0] = (0.5 * matrix[i - 1][0]) + (\n",
    "                (((right_boundry - left_boundry) / (2 ** i))) * sum\n",
    "            )\n",
    "\n",
    "        for j in range(min(m, i + 1)):\n",
    "            if i != 0 and j != 0:\n",
    "                matrix[i][j] = matrix[i][j - 1] + (1 / ((4 ** j) - 1)) * (\n",
    "                    matrix[i][j - 1] - matrix[i - 1][j - 1]\n",
    "                )\n",
    "\n",
    "    return matrix"
   ],
   "outputs": [],
   "metadata": {}
  },
  {
   "cell_type": "code",
   "execution_count": 21,
   "source": [
    "def main():\n",
    "    print(rmbrg(lambda x: 4 / (1 + (x ** 2)), 0, 1, 5, 5))"
   ],
   "outputs": [],
   "metadata": {}
  },
  {
   "cell_type": "code",
   "execution_count": 22,
   "source": [
    "if __name__ == \"__main__\":\n",
    "    main()"
   ],
   "outputs": [
    {
     "output_type": "stream",
     "name": "stdout",
     "text": [
      "[[0. 0. 0. 0. 0.]\n",
      " [0. 0. 0. 0. 0.]\n",
      " [0. 0. 0. 0. 0.]\n",
      " [0. 0. 0. 0. 0.]\n",
      " [0. 0. 0. 0. 0.]]\n"
     ]
    }
   ],
   "metadata": {}
  }
 ],
 "metadata": {
  "orig_nbformat": 4,
  "language_info": {
   "name": "python",
   "version": "3.8.8",
   "mimetype": "text/x-python",
   "codemirror_mode": {
    "name": "ipython",
    "version": 3
   },
   "pygments_lexer": "ipython3",
   "nbconvert_exporter": "python",
   "file_extension": ".py"
  },
  "kernelspec": {
   "name": "python3",
   "display_name": "Python 3.8.8 64-bit ('base': conda)"
  },
  "interpreter": {
   "hash": "3cbebda45f5c9dced8dbb8fde8f28e3f7a9ec6a4a4afc8fb9ba30fdd41085d7f"
  }
 },
 "nbformat": 4,
 "nbformat_minor": 2
}