{
 "cells": [
  {
   "cell_type": "markdown",
   "metadata": {},
   "source": [
    "# Exercise 2A"
   ]
  },
  {
   "cell_type": "markdown",
   "metadata": {},
   "source": [
    "## 2A.1"
   ]
  },
  {
   "cell_type": "code",
   "execution_count": 70,
   "metadata": {},
   "outputs": [],
   "source": [
    "import numpy as np\n",
    "import matplotlib.pyplot as plt"
   ]
  },
  {
   "cell_type": "markdown",
   "metadata": {},
   "source": [
    "In the next function, we implement the Romberg algorithm. We create an array with size (n,m) which we will fill using the following method.\n",
    "\n",
    "We first calculate R(0,0) using the formula, $$R(0,0) = \\frac{1}{2}  (b-a)  [f(a) + f(b)]$$\n",
    "\n",
    "We then calculate R(n,0) using the formula,\n",
    "$$R(n,0) = \\frac{1}{2}  R(n-1,0) + h  \\sum_{k=1}^{2^{n-1}}f[a + (2k - 1)h]$$\n",
    "where $n ≥ 1$ and $h = \\frac{b-a}{2^n}$.\n",
    "\n",
    "Finally we calculate R(n,m) using the formula,\n",
    "$$R(n,m) = R(n,m-1) + \\frac{1}{4^m - 1}  [R(n,m-1) - R(n - 1, m - 1)]$$\n",
    "\n",
    "For $n ≥ 1$ and $m ≥ 1$\n",
    "\n",
    "All these values are stored in the matrix we created in the beginning."
   ]
  },
  {
   "cell_type": "code",
   "execution_count": 71,
   "metadata": {},
   "outputs": [],
   "source": [
    "def rmbrg(a: float, b: float, n: int, m: int, f):\n",
    "    array = np.zeros((n, m))\n",
    "    array[0][0] = 0.5 * (b - a) * (f(a) + f(b))\n",
    "\n",
    "    for i in range(n):\n",
    "        if i != 0:\n",
    "            sum = 0\n",
    "            for k in range((2 ** (i - 1))):\n",
    "                sum += f(a + ((2 * (k + 1)) - 1) * ((b - a) / (2 ** i)))\n",
    "            array[i][0] = (0.5 * array[i - 1][0]) + (\n",
    "                (((b - a) / (2 ** i))) * sum\n",
    "            )\n",
    "\n",
    "        for j in range(min(m, i + 1)):\n",
    "            if i != 0 and j != 0:\n",
    "                array[i][j] = array[i][j - 1] + (1 / ((4 ** j) - 1)) * (\n",
    "                    array[i][j - 1] - array[i - 1][j - 1]\n",
    "                )\n",
    "\n",
    "    return array"
   ]
  },
  {
   "cell_type": "markdown",
   "metadata": {},
   "source": [
    "We compute the following integral $\\int_{0}^{1} \\frac{4}{1 + x^2}dx$ using the Romberg algorithm. As we can see from our computed matrix, there is a minor difference if we compare the elements from the matrix from the book."
   ]
  },
  {
   "cell_type": "code",
   "execution_count": 72,
   "metadata": {},
   "outputs": [],
   "source": [
    "f_2a = lambda x: 4 / (1 + (x ** 2))"
   ]
  },
  {
   "cell_type": "code",
   "execution_count": 73,
   "metadata": {},
   "outputs": [],
   "source": [
    "def main():\n",
    "    a=0\n",
    "    b=1\n",
    "    n=5\n",
    "    print(rmbrg(a,b,n,n, f_2a))"
   ]
  },
  {
   "cell_type": "code",
   "execution_count": 74,
   "metadata": {},
   "outputs": [
    {
     "name": "stdout",
     "output_type": "stream",
     "text": [
      "[[3.         0.         0.         0.         0.        ]\n",
      " [3.1        3.13333333 0.         0.         0.        ]\n",
      " [3.13117647 3.14156863 3.14211765 0.         0.        ]\n",
      " [3.13898849 3.1415925  3.14159409 3.14158578 0.        ]\n",
      " [3.14094161 3.14159265 3.14159266 3.14159264 3.14159267]]\n"
     ]
    }
   ],
   "source": [
    "if __name__ == \"__main__\":\n",
    "    main()"
   ]
  },
  {
   "cell_type": "markdown",
   "metadata": {},
   "source": [
    "## 2A.2.2"
   ]
  },
  {
   "cell_type": "markdown",
   "metadata": {},
   "source": [
    "In our experiment we tried to compute the integral $f(x)=\\frac{1}{x+1} $ using the Romberg algorithm. We know that the integral of $f(x)$ is $\\ln(x+1)$. We'll show the resemblance by plotting the integral and the integraded function. "
   ]
  },
  {
   "cell_type": "code",
   "execution_count": 75,
   "metadata": {},
   "outputs": [],
   "source": [
    "f_a2 = lambda x: 1 / (x + 1)\n",
    "other_F = lambda x: rmbrg(0, x, 20, 20, f_a2)[-1, -1]\n",
    "F = lambda x: np.log(x + 1)"
   ]
  },
  {
   "cell_type": "code",
   "execution_count": 76,
   "metadata": {},
   "outputs": [],
   "source": [
    "def prog():\n",
    "    array = np.linspace(0, 10, 100)\n",
    "    values_F = np.zeros(100)\n",
    "    values_OTHER_F = np.zeros(100)\n",
    "\n",
    "    for i in range(100):\n",
    "        values_F[i] = F(array[i])\n",
    "        values_OTHER_F[i] = other_F(array[i])\n",
    "        #print(i + 1)\n",
    "\n",
    "    plt.plot(array, values_F)\n",
    "    plt.plot(array, values_OTHER_F)\n",
    "    plt.show()"
   ]
  },
  {
   "cell_type": "code",
   "execution_count": 77,
   "metadata": {},
   "outputs": [
    {
     "data": {
      "image/png": "[encoded data removed]",
      "text/plain": [
       "<Figure size 432x288 with 1 Axes>"
      ]
     },
     "metadata": {
      "needs_background": "light"
     },
     "output_type": "display_data"
    }
   ],
   "source": [
    "if __name__ == \"__main__\":\n",
    "    prog()"
   ]
  },
  {
   "cell_type": "markdown",
   "metadata": {},
   "source": [
    "Now we'll compare the accuracy of the Romberg algorithm with emperical data given that:\n",
    "$x = 2$"
   ]
  },
  {
   "cell_type": "code",
   "execution_count": 81,
   "metadata": {},
   "outputs": [
    {
     "name": "stdout",
     "output_type": "stream",
     "text": [
      "true_value=1.0986122886681098\n",
      "i=1: error=0.23472104466522348\n",
      "i=2: error=0.012498822443001156\n",
      "i=3: error=0.0006469705911495982\n",
      "i=4: error=1.825969788793458e-05\n",
      "i=5: error=2.290550196182295e-07\n",
      "i=6: error=1.137817173813005e-09\n",
      "i=7: error=2.0761170560490427e-12\n",
      "i=8: error=1.1102230246251565e-15\n",
      "i=9: error=2.220446049250313e-16\n",
      "i=10: error=2.220446049250313e-16\n",
      "i=11: error=1.1102230246251565e-15\n",
      "i=12: error=2.220446049250313e-16\n",
      "i=13: error=8.881784197001252e-16\n",
      "i=14: error=0.0\n",
      "i=15: error=2.4424906541753444e-15\n",
      "i=16: error=6.661338147750939e-16\n",
      "i=17: error=6.661338147750939e-16\n",
      "i=18: error=6.8833827526759706e-15\n",
      "i=19: error=6.8833827526759706e-15\n",
      "i=20: error=2.1316282072803006e-14\n",
      "i=21: error=4.463096558993129e-14\n",
      "i=22: error=2.3092638912203256e-14\n",
      "i=23: error=3.2862601528904634e-14\n",
      "i=24: error=3.397282455352979e-14\n",
      "i=25: error=4.884981308350689e-15\n"
     ]
    }
   ],
   "source": [
    "def comparison():\n",
    "    x=2\n",
    "    true_value = np.log(x+1)\n",
    "    print(f\"{true_value=}\")\n",
    "    for i in range(1, 26):\n",
    "        error = np.abs(true_value - rmbrg(0, x, i, i, f_a2)[-1, -1])\n",
    "        print(f\"{i=}: {error=}\")\n",
    "        \n",
    "comparison()"
   ]
  },
  {
   "cell_type": "markdown",
   "metadata": {},
   "source": [
    "As we can see the error decreases as the matrix grows in size. However strangly enough the error increases after the matrix reaches a size of 14x14, which we believe is because of floating point errors."
   ]
  },
  {
   "cell_type": "markdown",
   "metadata": {},
   "source": [
    "## 2A.2.3"
   ]
  },
  {
   "cell_type": "markdown",
   "metadata": {},
   "source": [
    "We need to show why the function $f(x)=\\sqrt{x}$ is a \"bad\" function, to integrate using the Romberg algorithm on [0,1]."
   ]
  },
  {
   "cell_type": "code",
   "execution_count": 79,
   "metadata": {},
   "outputs": [
    {
     "name": "stdout",
     "output_type": "stream",
     "text": [
      "[[0.5        0.         0.         0.         0.        ]\n",
      " [0.60355339 0.63807119 0.         0.         0.        ]\n",
      " [0.64328305 0.65652626 0.6577566  0.         0.        ]\n",
      " [0.65813022 0.66307928 0.66351615 0.66360757 0.        ]\n",
      " [0.6635812  0.66539819 0.66555278 0.66558511 0.66559287]]\n"
     ]
    }
   ],
   "source": [
    "def f_a3(x: float) -> float:\n",
    "    return x ** 0.5\n",
    "\n",
    "def a2_3():\n",
    "    a = 0.0\n",
    "    b = 1.0\n",
    "    n = 5\n",
    "    print(rmbrg(a, b, n, n, f_a3))\n",
    "    \n",
    "a2_3()"
   ]
  },
  {
   "cell_type": "markdown",
   "metadata": {},
   "source": [
    "As we can see the function converges very slowly to the true value ($\\frac{2}{3}$). This is because the Romberg algorithm is more accurate, when the function has many continuous derivates. However the derivative of $f(x)$ is not continuous on point $x=0$, that is why we consider this function bad."
   ]
  },
  {
   "cell_type": "markdown",
   "metadata": {},
   "source": [
    "## 2A2.6"
   ]
  },
  {
   "cell_type": "markdown",
   "metadata": {},
   "source": [
    "We need to compute the following $\\int_{0}^{\\pi} x\\cos(3x)dx$ using the Romberg algorithm for a 6x6 matrix."
   ]
  },
  {
   "cell_type": "code",
   "execution_count": 80,
   "metadata": {},
   "outputs": [
    {
     "name": "stdout",
     "output_type": "stream",
     "text": [
      "[[-4.9348022   0.          0.          0.          0.          0.        ]\n",
      " [-2.4674011  -1.64493407  0.          0.          0.          0.        ]\n",
      " [-0.36134253  0.340677    0.47305107  0.          0.          0.        ]\n",
      " [-0.24981116 -0.21263404 -0.24952144 -0.26099085  0.          0.        ]\n",
      " [-0.22876078 -0.22174398 -0.22235131 -0.22192004 -0.22176682  0.        ]\n",
      " [-0.22383559 -0.22219387 -0.22222386 -0.22222184 -0.22222302 -0.22222347]]\n"
     ]
    }
   ],
   "source": [
    "def f_a6(x: float) -> float:\n",
    "    return x * np.cos(3 * x)\n",
    "\n",
    "def a2_6():\n",
    "    a=0.0\n",
    "    b=np.pi\n",
    "    n=6\n",
    "    print(rmbrg(a, b, n, n, f_a6))\n",
    "    \n",
    "a2_6()"
   ]
  },
  {
   "cell_type": "markdown",
   "metadata": {},
   "source": [
    "As we can see the true value of the integrated function is indeed close to $-\\frac{2}{9}$."
   ]
  }
 ],
 "metadata": {
  "interpreter": {
   "hash": "3cbebda45f5c9dced8dbb8fde8f28e3f7a9ec6a4a4afc8fb9ba30fdd41085d7f"
  },
  "kernelspec": {
   "display_name": "Python 3",
   "language": "python",
   "name": "python3"
  },
  "language_info": {
   "codemirror_mode": {
    "name": "ipython",
    "version": 3
   },
   "file_extension": ".py",
   "mimetype": "text/x-python",
   "name": "python",
   "nbconvert_exporter": "python",
   "pygments_lexer": "ipython3",
   "version": "3.8.8"
  }
 },
 "nbformat": 4,
 "nbformat_minor": 2
}
